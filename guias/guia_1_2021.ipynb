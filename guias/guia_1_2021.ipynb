{
 "cells": [
  {
   "cell_type": "markdown",
   "metadata": {},
   "source": [
    "# Guia 1 \n",
    "## Julia_version 2021"
   ]
  },
  {
   "cell_type": "markdown",
   "metadata": {},
   "source": [
    "\tProblema 1: Evaluar (en papel y lápiz) las siguientes expresiones, anticipando el resultado de estas operaciones en Julia. Verifique programando las mismas.\n",
    "\n",
    "\t\ta) 5 / 2 + 20/ 6\n",
    "\n",
    "\t\tb) 4 * 6 / 2 - 15 / 2\n",
    "\t\n",
    "\t\tc) 5 * 15 / 2 / (4 - 2)\n",
    "\t\n",
    "\t\td) 1 + 1/4\n",
    "\t\n",
    "\t\te) 1. + 1/4\n",
    "\t\t\n",
    "\t\tf) 1 + 1./4\n",
    "\t\t\n",
    "\t\tg) 1. + 1./4. "
   ]
  },
  {
   "cell_type": "markdown",
   "metadata": {},
   "source": [
    "## Problema 2\n",
    "\t\n",
    "Evaluar (en papel y lápiz) las siguientes operaciones usando matemática exacta y \t matemática\n",
    "\tde enteros de 2 bytes (Integer(2)). Verique sus resultados escribiendo un código\n",
    "\t\t\n",
    "   a) 32767 + 1\n",
    "\n",
    "   b) 30000*2\n",
    "\n",
    "   c) -30000 - 10000"
   ]
  },
  {
   "cell_type": "markdown",
   "metadata": {},
   "source": [
    "## Problema 3\n",
    "Escriba un programa que pida dos números reales e imprima en la pantalla el mayor\n",
    "\tde ellos. El programa debe indicar si los números son iguales."
   ]
  },
  {
   "cell_type": "markdown",
   "metadata": {},
   "source": [
    "## Problema 4\n",
    "Escriba un programa que pida un número entero y determine si es múltiplo de 2 y \t\tde 5."
   ]
  },
  {
   "cell_type": "markdown",
   "metadata": {},
   "source": [
    "## Problema 5\n",
    "Escriba una programa que ingrese los coe\f",
    "cientes A, B y C de un polinomio real de \t  segundo\n",
    "\tgrado (Ax2+Bx+C), calcule e imprima en pantalla las dos ra\u0013\u0010ces del polinomio en \t formato complejo a+ib,\n",
    "sin utilizar algebra compleja."
   ]
  },
  {
   "cell_type": "markdown",
   "metadata": {},
   "source": [
    "## Problema 6\n",
    "Escriba un programa que permita convertir números naturales con base 10 a la base \t   b <= 16.\n",
    "   El programa debe pedir como entrada b y el número natural a convertir (que debe       estar en base 10)."
   ]
  },
  {
   "cell_type": "markdown",
   "metadata": {},
   "source": [
    "## Problema 7\n",
    "\n",
    "   Escriba un programa para calcular un valor aproximado de $\\pi$ utilizando\n",
    "    \n",
    "   a) la fórmula recurrente de Arquímedes, que acota $\\pi$ entre $P_n$ y $p_n$, \n",
    "    con $p_n < π < P_n$. Siendo $p_n$ y $P_n$ los perámetros de los polígonos regulares de $n$ \t\t\t\tlados inscriptos y circunscriptos, respectivamente, en la circunsferencia de radio $1/2$. \n",
    "\n",
    "   La fórmula de recurrencia que encontró Arquímides es la siguiente:\n",
    "\n",
    "$$P_{2n} = \\frac{2p_nP_n}{p_n + P_n} \\;\\;\\;\\;\\; p_{2n} = \\sqrt{P_{2n}p_n}$$\n",
    "\n",
    "   Usando los valores $P_6 = 2\\sqrt{3}$ y $p_6 = 3$, correspondientes al \t\t\t\thexágono, escriba un programa que realice 20 iteraciones, con $n = 6 \\cdot 2^k$, y $k = 1 \\ldots 20$, y escriba los resultados en pantalla.\n",
    "\n",
    "\n",
    "   b) la productoria de Wallis\n",
    "$$\\frac{\\pi}{2} = \\prod_1^{\\infty} \\frac{(2n)^2}{(2n)^2 - 1} = \\frac{3}{4}\\frac{16}{15}\\frac{36}{35}\\frac{64}{63} \\cdots$$\n",
    "\n",
    "   Calcule el valor de π truncando la productoria a $10^6$ factores."
   ]
  },
  {
   "cell_type": "markdown",
   "metadata": {},
   "source": [
    "## Problema 8.\n",
    "\n",
    "Dado el arreglo $A$, declarado de la siguiente manera `Array(Float64,50,20)` escriba (papel y lápiz) secciones de este arreglo representando:\n",
    "\t\n",
    "    a. la primera fila de A;\n",
    "\t\n",
    "    b. la última columna de A;\n",
    "\t\n",
    "    c. un elemento de por medio en cada fila y columna.\n",
    "    \n",
    "    "
   ]
  },
  {
   "cell_type": "markdown",
   "metadata": {},
   "source": [
    "## Problema 9.\n",
    "\n",
    "   Escriba un programa, que utilizando una subrutina, multiplique un vector de N elementos, por una matriz de $N \\times N$. El programa debe preguntar el valor de N y luego definir los arreglos, y darle valores iniciales tal que, la matriz sea triangular superior, con todos sus elementos igual a 1, excepto los de la diagonal que toman valor 3, el vector tendra todos sus elementos pares igual a 2, y los impares igual a 3. No utilice `do` ni `for` para las inicializar el vector, ni `do` ni `for` anidados para inicializar la matriz."
   ]
  },
  {
   "cell_type": "markdown",
   "metadata": {},
   "source": [
    "## Problema 10.\n",
    "\n",
    "Escriba un programa para calcular la posición y la velocidad en función del tiempo, para un problema de tiro oblicuo. Debe preguntar el ángulo (en grados) y la velocidad inicial (en m/seg.), asumiendo que el proyectil parte del origen. \n",
    "Elija el incremento temporal (Δt) de manera que la gráfica\n",
    "tenga 600 puntos y abarque el intervalo entre el disparo y el instante en que el proyectil vuelve a tener\n",
    "altura 0. \n",
    "Utilice funciones para calcular la posición y la velocidad. \n",
    "\n",
    "**Escriba la salida del programa en un\n",
    "archivo de texto, con 5 columnas (t, x(t), y(t),vx(t),vy(t)). La primera línea debe comenzar con #, e incluir\n",
    "la descripción de los datos de cada columna. Los datos en la tabla deben tener 6 cifras significativas y estar\n",
    "escritos en notación exponencial.** Grafique x(t), y(t) y vy(t) en función de t, y la trayectoria del proyectil, **utilizando gnuplot**."
   ]
  },
  {
   "cell_type": "markdown",
   "metadata": {},
   "source": [
    "## Problema 11.\n",
    "\n",
    "Se pretende calcular las sumas $S_N = \\sum^N_{k=1} a_k$, donde $N$ es un número natural. \n",
    "Llamemos\n",
    "$S'_N$ al valor calculado que se logra de hacer $(float)(S_{N-1} + a_N)$. \n",
    "Sea $S_N =\\sum^N_{k=1} \\frac{1}{k}$. Mostrar que $S'_N$ se\n",
    "estaciona a partir de algún $N$ suficientemente grande. \n",
    "Deducir que a partir de entonces $S_N \\neq S'_{N}$ . Hacer\n",
    "un programa que determine el valor a partir del cual $S'_N$ se estaciona."
   ]
  },
  {
   "cell_type": "markdown",
   "metadata": {},
   "source": [
    "## Problema 12.\n",
    "Para calcular un valor aproximado de π utilizaremos la siguiente serie infinita alternante:\n",
    "\n",
    "$\\frac{\\pi}{4} = \\sum_{n=0}^{\\infty} \\frac{(-1)^n}{2n+1}$\n",
    "\n",
    "Recordemos que una cota superior para el error cometido al truncar una serie alternante (de valor absoluto\n",
    "decreciente) está dado por el valor absoluto del primer término despreciado. Escriba un programa que ingrese\n",
    "el número de cifras decimales exactas con que se desea el valor de π (entre 1 y 5 cifras) y devuelva en pantalla\n",
    "el número de términos que deben incluirse en la serie de arriba para obtener dicha precisión y a renglón siguiente\n",
    "el valor de π obtenido de esta forma, truncado el resultado al número de cifras pedido."
   ]
  },
  {
   "cell_type": "markdown",
   "metadata": {},
   "source": [
    "## Problema 13.\n",
    "\n",
    "Escribir un programa que pida una contraseña de tres dígitos y permita leer tres intentos.\n",
    "Si el usuario da la contraseña correcta responde responde *Correcto* y queda inactivo, con este mensaje.\n",
    "En caso contrario el programa escribe *Lo siento, contraseña equivocada* y se cierra de inmediato.\n",
    "\n",
    "**No está completo, estoy viendo cual es la mejor opción**\n",
    "A Pluto no le gusta la interacción vía Terminal, de hecho la ha sacado...\""
   ]
  },
  {
   "cell_type": "markdown",
   "metadata": {},
   "source": [
    "## Problema 14.\n",
    "Escribir un programa que, dado un año y el nombre de un mes, **saque por pantalla** el número\n",
    "de días del mes (tenga en cuenta que algunos años son bisiestos)."
   ]
  },
  {
   "cell_type": "markdown",
   "metadata": {},
   "source": [
    "## Problema 15.\n",
    "\n",
    "Escriba un programa que genere secuencialmente 10 archivos con nombre de salida diferentes\n",
    "(dependiendo del valor que tome algún parámetro). En cada archivo, escriba bajo la forma de dupla $(x; f(x))$\n",
    "una función evaluada en N puntos y que también dependa del parámetro (por ejemplo \n",
    "$y = sin(πωx)$, con $ω = 1, 2, 3, \\ldots$). El loop debe cerrar cada archivo luego de escribir en él. En el mismo programa o en otro,\n",
    "construya otro loop que abra secuencialmente los archivos y que (sin borrar los datos escritos) agregue otros\n",
    "N puntos de la función $(x; f(x))$."
   ]
  },
  {
   "cell_type": "code",
   "execution_count": null,
   "metadata": {},
   "outputs": [],
   "source": []
  }
 ],
 "metadata": {
  "kernelspec": {
   "display_name": "Julia 1.5.3",
   "language": "julia",
   "name": "julia-1.5"
  },
  "language_info": {
   "file_extension": ".jl",
   "mimetype": "application/julia",
   "name": "julia",
   "version": "1.5.3"
  },
  "latex_envs": {
   "LaTeX_envs_menu_present": true,
   "autoclose": false,
   "autocomplete": true,
   "bibliofile": "biblio.bib",
   "cite_by": "apalike",
   "current_citInitial": 1,
   "eqLabelWithNumbers": true,
   "eqNumInitial": 1,
   "hotkeys": {
    "equation": "Ctrl-E",
    "itemize": "Ctrl-I"
   },
   "labels_anchors": false,
   "latex_user_defs": false,
   "report_style_numbering": false,
   "user_envs_cfg": false
  }
 },
 "nbformat": 4,
 "nbformat_minor": 4
}
